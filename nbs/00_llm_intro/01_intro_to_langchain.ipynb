{
 "cells": [
  {
   "cell_type": "markdown",
   "metadata": {},
   "source": [
    "# Guidelines for Prompting in Langchain\n",
    "\n",
    "> **Guidelines for Prompting in Langchain**.\n",
    "\n",
    "- title-block-banner: true"
   ]
  },
  {
   "cell_type": "markdown",
   "metadata": {},
   "source": [
    "## Setup\n",
    "\n",
    "### Load the API key and relevant Python libaries."
   ]
  },
  {
   "cell_type": "markdown",
   "metadata": {},
   "source": [
    "If you use google colab please install the following packages:\n",
    "\n",
    "```bash\n",
    "pip install \"langchain>=0.0.200\" \"pandas>=1.5.3\" \"panel>=1.1.0\" \"tiktoken>=0.3.3\"\n",
    "```"
   ]
  },
  {
   "cell_type": "code",
   "execution_count": null,
   "metadata": {},
   "outputs": [],
   "source": [
    "#| eval: false\n",
    "import json\n",
    "\n",
    "from langchain.chat_models import ChatOpenAI"
   ]
  },
  {
   "cell_type": "code",
   "execution_count": null,
   "metadata": {},
   "outputs": [],
   "source": [
    "#| eval: false\n",
    "chat = ChatOpenAI(\n",
    "    temperature=0.0,\n",
    "    # openai_api_key=\"sk-<your key here>\"  # uncomment to use your own API key, othewise uses default .env key\n",
    ")"
   ]
  },
  {
   "cell_type": "code",
   "execution_count": null,
   "metadata": {},
   "outputs": [],
   "source": [
    "#| eval: false\n",
    "from langchain.prompts import ChatPromptTemplate"
   ]
  },
  {
   "cell_type": "code",
   "execution_count": null,
   "metadata": {},
   "outputs": [],
   "source": [
    "#| eval: false\n",
    "paper_info = \"\"\"\n",
    "Massively Multilingual Corpus of Sentiment Datasets and Multi-faceted Sentiment Classification Benchmark\n",
    "Łukasz Augustyniak, Szymon Woźniak, Marcin Gruza, Piotr Gramacki, Krzysztof Rajda, Mikołaj Morzy, Tomasz Kajdanowicz\n",
    "Despite impressive advancements in multilingual corpora collection and model training, developing large-scale deployments of multilingual models still presents a significant challenge. This is particularly true for language tasks that are culture-dependent. One such example is the area of multilingual sentiment analysis, where affective markers can be subtle and deeply ensconced in culture. This work presents the most extensive open massively multilingual corpus of datasets for training sentiment models. The corpus consists of 79 manually selected datasets from over 350 datasets reported in the scientific literature based on strict quality criteria. The corpus covers 27 languages representing 6 language families. Datasets can be queried using several linguistic and functional features. In addition, we present a multi-faceted sentiment classification benchmark summarizing hundreds of experiments conducted on different base models, training objectives, dataset collections, and fine-tuning strategies.\n",
    "\"\"\"\n",
    "\n",
    "template_string = \"\"\"\n",
    "Perform the following actions for a research paper text: \n",
    "1 - Summarize the following text delimited by triple backticks with 1 sentence.\n",
    "2 - Generate a title for this summary with emojis.\n",
    "3 - Prepare a tweet thread with 3 tweets based on summary.\n",
    "4 - Prepare a longer linkedin post based on paper abstract. \n",
    "\n",
    "Return a {format_output} with the following strcuture: summary, title, tweet, linkedin_post \n",
    "\n",
    "Text:\n",
    "```{text}```\n",
    "\"\"\""
   ]
  },
  {
   "cell_type": "code",
   "execution_count": null,
   "metadata": {},
   "outputs": [],
   "source": [
    "#| eval: false\n",
    "prompt_template = ChatPromptTemplate.from_template(template_string)\n"
   ]
  },
  {
   "cell_type": "code",
   "execution_count": null,
   "metadata": {},
   "outputs": [
    {
     "data": {
      "text/plain": [
       "ChatPromptTemplate(input_variables=['text', 'format_output'], output_parser=None, partial_variables={}, messages=[HumanMessagePromptTemplate(prompt=PromptTemplate(input_variables=['format_output', 'text'], output_parser=None, partial_variables={}, template='\\nPerform the following actions for a research paper text: \\n1 - Summarize the following text delimited by triple backticks with 1 sentence.\\n2 - Generate a title for this summary with emojis.\\n3 - Prepare a tweet thread with 3 tweets based on summary.\\n4 - Prepare a longer linkedin post based on paper abstract. \\n\\nReturn a {format_output} with the following strcuture: summary, title, tweet, linkedin_post \\n\\nText:\\n```{text}```\\n', template_format='f-string', validate_template=True), additional_kwargs={})])"
      ]
     },
     "execution_count": null,
     "metadata": {},
     "output_type": "execute_result"
    }
   ],
   "source": [
    "#| eval: false\n",
    "prompt_template"
   ]
  },
  {
   "cell_type": "code",
   "execution_count": null,
   "metadata": {},
   "outputs": [
    {
     "data": {
      "text/plain": [
       "['text', 'format_output']"
      ]
     },
     "execution_count": null,
     "metadata": {},
     "output_type": "execute_result"
    }
   ],
   "source": [
    "#| eval: false\n",
    "prompt_template.input_variables"
   ]
  },
  {
   "cell_type": "code",
   "execution_count": null,
   "metadata": {},
   "outputs": [
    {
     "data": {
      "text/plain": [
       "HumanMessagePromptTemplate(prompt=PromptTemplate(input_variables=['format_output', 'text'], output_parser=None, partial_variables={}, template='\\nPerform the following actions for a research paper text: \\n1 - Summarize the following text delimited by triple backticks with 1 sentence.\\n2 - Generate a title for this summary with emojis.\\n3 - Prepare a tweet thread with 3 tweets based on summary.\\n4 - Prepare a longer linkedin post based on paper abstract. \\n\\nReturn a {format_output} with the following strcuture: summary, title, tweet, linkedin_post \\n\\nText:\\n```{text}```\\n', template_format='f-string', validate_template=True), additional_kwargs={})"
      ]
     },
     "execution_count": null,
     "metadata": {},
     "output_type": "execute_result"
    }
   ],
   "source": [
    "#| eval: false\n",
    "prompt_template.messages[0]"
   ]
  },
  {
   "cell_type": "code",
   "execution_count": null,
   "metadata": {},
   "outputs": [
    {
     "data": {
      "text/plain": [
       "['format_output', 'text']"
      ]
     },
     "execution_count": null,
     "metadata": {},
     "output_type": "execute_result"
    }
   ],
   "source": [
    "#| eval: false\n",
    "prompt_template.messages[0].prompt.input_variables"
   ]
  },
  {
   "cell_type": "code",
   "execution_count": null,
   "metadata": {},
   "outputs": [],
   "source": [
    "#| eval: false\n",
    "paper_messages = prompt_template.format_messages(\n",
    "    text=paper_info,  # text to be summarized\n",
    "    format_output='python dict'  # format of output to be returned from LLM\n",
    ")"
   ]
  },
  {
   "cell_type": "code",
   "execution_count": null,
   "metadata": {},
   "outputs": [
    {
     "data": {
      "text/plain": [
       "[HumanMessage(content='\\nPerform the following actions for a research paper text: \\n1 - Summarize the following text delimited by triple backticks with 1 sentence.\\n2 - Generate a title for this summary with emojis.\\n3 - Prepare a tweet thread with 3 tweets based on summary.\\n4 - Prepare a longer linkedin post based on paper abstract. \\n\\nReturn a python dict with the following strcuture: summary, title, tweet, linkedin_post \\n\\nText:\\n```\\nMassively Multilingual Corpus of Sentiment Datasets and Multi-faceted Sentiment Classification Benchmark\\nŁukasz Augustyniak, Szymon Woźniak, Marcin Gruza, Piotr Gramacki, Krzysztof Rajda, Mikołaj Morzy, Tomasz Kajdanowicz\\nDespite impressive advancements in multilingual corpora collection and model training, developing large-scale deployments of multilingual models still presents a significant challenge. This is particularly true for language tasks that are culture-dependent. One such example is the area of multilingual sentiment analysis, where affective markers can be subtle and deeply ensconced in culture. This work presents the most extensive open massively multilingual corpus of datasets for training sentiment models. The corpus consists of 79 manually selected datasets from over 350 datasets reported in the scientific literature based on strict quality criteria. The corpus covers 27 languages representing 6 language families. Datasets can be queried using several linguistic and functional features. In addition, we present a multi-faceted sentiment classification benchmark summarizing hundreds of experiments conducted on different base models, training objectives, dataset collections, and fine-tuning strategies.\\n```\\n', additional_kwargs={}, example=False)]"
      ]
     },
     "execution_count": null,
     "metadata": {},
     "output_type": "execute_result"
    }
   ],
   "source": [
    "#| eval: false\n",
    "paper_messages"
   ]
  },
  {
   "cell_type": "code",
   "execution_count": null,
   "metadata": {},
   "outputs": [
    {
     "name": "stdout",
     "output_type": "stream",
     "text": [
      "<class 'list'>\n",
      "<class 'langchain.schema.HumanMessage'>\n"
     ]
    }
   ],
   "source": [
    "#| eval: false\n",
    "print(type(paper_messages))\n",
    "print(type(paper_messages[0]))"
   ]
  },
  {
   "cell_type": "markdown",
   "metadata": {},
   "source": [
    "Let's make a first call to the API to check if everything is working."
   ]
  },
  {
   "cell_type": "code",
   "execution_count": null,
   "metadata": {},
   "outputs": [],
   "source": [
    "#| eval: false\n",
    "paper_social_media_summary = chat(paper_messages)"
   ]
  },
  {
   "cell_type": "markdown",
   "metadata": {},
   "source": [
    "We got not a raw string but an object from langchain. "
   ]
  },
  {
   "cell_type": "code",
   "execution_count": null,
   "metadata": {},
   "outputs": [
    {
     "data": {
      "text/plain": [
       "AIMessage(content='Summary: 🌍📊 This paper presents a massively multilingual corpus of sentiment datasets consisting of 79 manually selected datasets from over 350 reported in scientific literature, covering 27 languages and a multi-faceted sentiment classification benchmark summarizing hundreds of experiments conducted on different models, objectives, collections, and strategies.\\n\\nTitle: 🌍📊 Massively Multilingual Corpus of Sentiment Datasets and Multi-faceted Sentiment Classification Benchmark\\n\\nTweet 1: 🌍📊 This paper presents a massively multilingual corpus of sentiment datasets covering 27 languages and a multi-faceted sentiment classification benchmark summarizing hundreds of experiments conducted on different models, objectives, collections, and strategies. #sentimentanalysis #multilingual\\n\\nTweet 2: 📊 The corpus consists of 79 manually selected datasets from over 350 reported in scientific literature based on strict quality criteria and can be queried using several linguistic and functional features. #dataset #NLP\\n\\nTweet 3: 🌍📈 The multi-faceted sentiment classification benchmark presented in this paper provides a comprehensive evaluation of different base models, training objectives, dataset collections, and fine-tuning strategies. #machinelearning #evaluation\\n\\nLinkedIn Post: \\nThis paper presents a massively multilingual corpus of sentiment datasets and a multi-faceted sentiment classification benchmark, providing a comprehensive resource for sentiment analysis research. The corpus consists of 79 manually selected datasets from over 350 reported in scientific literature based on strict quality criteria, covering 27 languages representing 6 language families. Datasets can be queried using several linguistic and functional features, making it a valuable resource for natural language processing research. The multi-faceted sentiment classification benchmark summarizes hundreds of experiments conducted on different base models, training objectives, dataset collections, and fine-tuning strategies, providing a comprehensive evaluation of sentiment analysis approaches. This work is a significant contribution to the development of large-scale deployments of multilingual sentiment models, which still presents a significant challenge due to the culture-dependent nature of language tasks. #sentimentanalysis #multilingual #NLP #machinelearning #research', additional_kwargs={}, example=False)"
      ]
     },
     "execution_count": null,
     "metadata": {},
     "output_type": "execute_result"
    }
   ],
   "source": [
    "#| eval: false\n",
    "paper_social_media_summary"
   ]
  },
  {
   "cell_type": "code",
   "execution_count": null,
   "metadata": {},
   "outputs": [
    {
     "data": {
      "text/plain": [
       "'Summary: 🌍📊 This paper presents a massively multilingual corpus of sentiment datasets consisting of 79 manually selected datasets from over 350 reported in scientific literature, covering 27 languages and a multi-faceted sentiment classification benchmark summarizing hundreds of experiments conducted on different models, objectives, collections, and strategies.\\n\\nTitle: 🌍📊 Massively Multilingual Corpus of Sentiment Datasets and Multi-faceted Sentiment Classification Benchmark\\n\\nTweet 1: 🌍📊 This paper presents a massively multilingual corpus of sentiment datasets covering 27 languages and a multi-faceted sentiment classification benchmark summarizing hundreds of experiments conducted on different models, objectives, collections, and strategies. #sentimentanalysis #multilingual\\n\\nTweet 2: 📊 The corpus consists of 79 manually selected datasets from over 350 reported in scientific literature based on strict quality criteria and can be queried using several linguistic and functional features. #dataset #NLP\\n\\nTweet 3: 🌍📈 The multi-faceted sentiment classification benchmark presented in this paper provides a comprehensive evaluation of different base models, training objectives, dataset collections, and fine-tuning strategies. #machinelearning #evaluation\\n\\nLinkedIn Post: \\nThis paper presents a massively multilingual corpus of sentiment datasets and a multi-faceted sentiment classification benchmark, providing a comprehensive resource for sentiment analysis research. The corpus consists of 79 manually selected datasets from over 350 reported in scientific literature based on strict quality criteria, covering 27 languages representing 6 language families. Datasets can be queried using several linguistic and functional features, making it a valuable resource for natural language processing research. The multi-faceted sentiment classification benchmark summarizes hundreds of experiments conducted on different base models, training objectives, dataset collections, and fine-tuning strategies, providing a comprehensive evaluation of sentiment analysis approaches. This work is a significant contribution to the development of large-scale deployments of multilingual sentiment models, which still presents a significant challenge due to the culture-dependent nature of language tasks. #sentimentanalysis #multilingual #NLP #machinelearning #research'"
      ]
     },
     "execution_count": null,
     "metadata": {},
     "output_type": "execute_result"
    }
   ],
   "source": [
    "#| eval: false\n",
    "paper_social_media_summary.content"
   ]
  },
  {
   "cell_type": "code",
   "execution_count": null,
   "metadata": {},
   "outputs": [
    {
     "data": {
      "text/plain": [
       "AIMessage(content=\"| Summary | Title | Tweet | LinkedIn Post |\\n| --- | --- | --- | --- |\\n| This paper presents a massively multilingual corpus of sentiment datasets consisting of 79 manually selected datasets from over 350 datasets reported in the scientific literature based on strict quality criteria, covering 27 languages representing 6 language families, and a multi-faceted sentiment classification benchmark summarizing hundreds of experiments conducted on different base models, training objectives, dataset collections, and fine-tuning strategies. | 🌍📊👍 A Massive Multilingual Sentiment Corpus and Classification Benchmark | 1/3: Check out this paper presenting a massively multilingual corpus of sentiment datasets and a multi-faceted sentiment classification benchmark! 🌍📊👍 #sentimentanalysis #multilingual #corpus #classificationbenchmark | This paper presents a massively multilingual corpus of sentiment datasets and a multi-faceted sentiment classification benchmark, which can be used to train sentiment models in various languages and evaluate their performance. The corpus consists of 79 manually selected datasets from over 350 datasets reported in the scientific literature based on strict quality criteria, covering 27 languages representing 6 language families. The benchmark summarizes hundreds of experiments conducted on different base models, training objectives, dataset collections, and fine-tuning strategies, providing a comprehensive evaluation of the state-of-the-art in multilingual sentiment analysis. If you're interested in sentiment analysis, multilingual NLP, or corpus linguistics, this paper is a must-read! 🌍📊👍 #sentimentanalysis #multilingual #corpus #classificationbenchmark #naturallanguageprocessing #corpuslinguistics |\", additional_kwargs={}, example=False)"
      ]
     },
     "execution_count": null,
     "metadata": {},
     "output_type": "execute_result"
    }
   ],
   "source": [
    "#| eval: false\n",
    "chat(prompt_template.format_messages(\n",
    "    text=paper_info,\n",
    "    format_output='markdown table'\n",
    "))"
   ]
  },
  {
   "cell_type": "markdown",
   "metadata": {},
   "source": [
    "## Chains"
   ]
  },
  {
   "cell_type": "code",
   "execution_count": null,
   "metadata": {},
   "outputs": [],
   "source": [
    "#| eval: false\n",
    "import asyncio\n",
    "import time\n",
    "\n",
    "from langchain.llms import OpenAI\n",
    "from langchain.prompts import PromptTemplate\n",
    "from langchain.chains import LLMChain"
   ]
  },
  {
   "cell_type": "code",
   "execution_count": null,
   "metadata": {},
   "outputs": [],
   "source": [
    "#| eval: false\n",
    "text = \"\"\"\n",
    "US and Canadian search teams are racing against time to find a tourist submarine that went missing during a dive to the Titanic's wreck on Sunday.\n",
    "\n",
    "Five people were onboard when contact with the small sub was lost about an hour and 45 minutes into its dive.\n",
    "\n",
    "The rescue operation is continuing overnight in the mid-Atlantic but there has been no sign so far of the vessel.\n",
    "\n",
    "Government agencies, both countries' navies and commercial deep-sea firms are all helping the rescue operation.\n",
    "\"\"\"\n",
    "\n",
    "do_whats = [\"summarize\", \"extract NERs\", \"extract keywords\", \"extract key sentences\", \"extract random words starting with 's'\"]\n",
    "\n",
    "prompt = PromptTemplate(\n",
    "    input_variables=[\"do_what\", \"text\"],\n",
    "    template=\"Please {do_what} the following text: {text}\",\n",
    ")\n"
   ]
  },
  {
   "cell_type": "code",
   "execution_count": null,
   "metadata": {},
   "outputs": [],
   "source": [
    "#| eval: false\n",
    "llm = OpenAI(temperature=0.9)\n",
    "chain = LLMChain(llm=llm, prompt=prompt)"
   ]
  },
  {
   "cell_type": "code",
   "execution_count": null,
   "metadata": {},
   "outputs": [],
   "source": [
    "# llm"
   ]
  },
  {
   "cell_type": "code",
   "execution_count": null,
   "metadata": {},
   "outputs": [],
   "source": [
    "# chain"
   ]
  },
  {
   "cell_type": "code",
   "execution_count": null,
   "metadata": {},
   "outputs": [
    {
     "data": {
      "text/plain": [
       "\"\\nNer: \\nUS, Canadian, search teams, tourist submarine, Sunday, Five people, small sub, mid-Atlantic, government agencies, both countries' navies, commercial deep-sea firms, rescue operation\""
      ]
     },
     "execution_count": null,
     "metadata": {},
     "output_type": "execute_result"
    }
   ],
   "source": [
    "#| eval: false\n",
    "chain.run(do_what=\"extract ner\", text=text)"
   ]
  },
  {
   "cell_type": "code",
   "execution_count": null,
   "metadata": {},
   "outputs": [
    {
     "name": "stdout",
     "output_type": "stream",
     "text": [
      "Doing summarize...\n",
      "\n",
      "US and Canadian search teams are actively working to locate a tourist submarine carrying five people that went missing during a dive to the Titanic's wreck on Sunday. So far, no sign of the vessel has been found despite the efforts of government agencies, both countries' navies, and commercial deep-sea firms.\n",
      "****************************************************************************************************\n",
      "Doing extract NERs...\n",
      "\n",
      "NERs: US, Canadian, tourist, submarine, Titanic, Sunday, Five people, mid-Atlantic, Government agencies, countries' navies, commercial deep-sea firms\n",
      "****************************************************************************************************\n",
      "Doing extract keywords...\n",
      "\n",
      "Keywords: US, Canadian, search teams, tourist submarine, dive, Titanic's wreck, Sunday, Five people, mid-Atlantic, rescue operation, government agencies, navies, commercial deep-sea firms\n",
      "****************************************************************************************************\n",
      "Doing extract key sentences...\n"
     ]
    }
   ],
   "source": [
    "%%timeit -n 1 -r 1\n",
    "#| eval: false\n",
    "for do_what in do_whats:\n",
    "    print(f\"Doing {do_what}...\")\n",
    "    print(chain.run(do_what=do_what, text=text))\n",
    "    print(\"*\"*100)"
   ]
  },
  {
   "cell_type": "code",
   "execution_count": null,
   "metadata": {},
   "outputs": [
    {
     "data": {
      "text/plain": [
       "[\"\\nSearch teams from the US and Canada are working together in a race against time to locate a tourist submarine that went missing during a dive to the Titanic's wreck on Sunday. There were five people onboard when contact with the sub was lost, and the rescue operation is continuing overnight with the assistance of government agencies, navies, and deep-sea firms. So far, there has been no sign of the vessel.\",\n",
       " \"\\nNERS: US, Canadian, Sunday, Five, an hour and 45 minutes, mid-Atlantic, government agencies, both countries' navies, commercial deep-sea firms.\",\n",
       " \"\\n1. Search teams \\n2. Tourist submarine \\n3. Titanic's wreck \\n4. Five people \\n5. Mid-Atlantic \\n6. Rescue operation \\n7. Governments agencies \\n8. Countries' navies \\n9. Commercial deep-sea firms\",\n",
       " \"\\n1. US and Canadian search teams are racing against time to find a tourist submarine that went missing during a dive to the Titanic's wreck on Sunday.\\n2. Five people were onboard when contact with the small sub was lost about an hour and 45 minutes into its dive.\\n3. Government agencies, both countries' navies and commercial deep-sea firms are all helping the rescue operation.\",\n",
       " '\\nSearch, Sunday, submarine, signs, rescue, government, navies, commercial, deep-sea']"
      ]
     },
     "execution_count": null,
     "metadata": {},
     "output_type": "execute_result"
    }
   ],
   "source": [
    "#| eval: false\n",
    "tasks = [chain.arun(do_what=do_what, text=text) for do_what in do_whats]\n",
    "await asyncio.gather(*tasks)"
   ]
  },
  {
   "cell_type": "markdown",
   "metadata": {},
   "source": [
    "## LangChain: Memory\n",
    "\n",
    "One of the most common use cases for LLMs is to use it as a chatbot. However, LLMs are stateless hence there is no memory of previous calls to the API. We must create a memory for the LLM to be able to remember previous calls."
   ]
  },
  {
   "cell_type": "markdown",
   "metadata": {},
   "source": [
    "\n",
    "### ConversationBufferMemory\n"
   ]
  },
  {
   "cell_type": "code",
   "execution_count": null,
   "metadata": {},
   "outputs": [],
   "source": [
    "#| eval: false\n",
    "import warnings\n",
    "warnings.filterwarnings('ignore')\n",
    "\n",
    "from langchain.chat_models import ChatOpenAI\n",
    "from langchain.chains import ConversationChain\n",
    "from langchain.memory import ConversationBufferMemory"
   ]
  },
  {
   "cell_type": "code",
   "execution_count": null,
   "metadata": {},
   "outputs": [],
   "source": [
    "#| eval: false\n",
    "llm = ChatOpenAI(temperature=0.0)\n",
    "memory = ConversationBufferMemory()\n",
    "conversation = ConversationChain(\n",
    "    llm=llm, \n",
    "    memory = memory,\n",
    "    verbose=True\n",
    ")"
   ]
  },
  {
   "cell_type": "code",
   "execution_count": null,
   "metadata": {},
   "outputs": [
    {
     "name": "stdout",
     "output_type": "stream",
     "text": [
      "\n",
      "\n",
      "\u001b[1m> Entering new  chain...\u001b[0m\n",
      "Prompt after formatting:\n",
      "\u001b[32;1m\u001b[1;3mThe following is a friendly conversation between a human and an AI. The AI is talkative and provides lots of specific details from its context. If the AI does not know the answer to a question, it truthfully says it does not know.\n",
      "\n",
      "Current conversation:\n",
      "\n",
      "Human: Hi, my name is Łukasz\n",
      "AI:\u001b[0m\n"
     ]
    },
    {
     "name": "stderr",
     "output_type": "stream",
     "text": [
      "Retrying langchain.chat_models.openai.ChatOpenAI.completion_with_retry.<locals>._completion_with_retry in 1.0 seconds as it raised ServiceUnavailableError: The server is overloaded or not ready yet..\n"
     ]
    },
    {
     "name": "stdout",
     "output_type": "stream",
     "text": [
      "\n",
      "\u001b[1m> Finished chain.\u001b[0m\n"
     ]
    },
    {
     "data": {
      "text/plain": [
       "\"Hello Łukasz, it's nice to meet you! My name is AI. How can I assist you today?\""
      ]
     },
     "execution_count": null,
     "metadata": {},
     "output_type": "execute_result"
    }
   ],
   "source": [
    "#| eval: false\n",
    "conversation.predict(input=\"Hi, my name is Łukasz\")"
   ]
  },
  {
   "cell_type": "code",
   "execution_count": null,
   "metadata": {},
   "outputs": [
    {
     "name": "stdout",
     "output_type": "stream",
     "text": [
      "\n",
      "\n",
      "\u001b[1m> Entering new  chain...\u001b[0m\n",
      "Prompt after formatting:\n",
      "\u001b[32;1m\u001b[1;3mThe following is a friendly conversation between a human and an AI. The AI is talkative and provides lots of specific details from its context. If the AI does not know the answer to a question, it truthfully says it does not know.\n",
      "\n",
      "Current conversation:\n",
      "Human: Hi, my name is Łukasz\n",
      "AI: Hello Łukasz, it's nice to meet you! My name is AI. How can I assist you today?\n",
      "Human: What is the best joke ever?\n",
      "AI:\u001b[0m\n",
      "\n",
      "\u001b[1m> Finished chain.\u001b[0m\n"
     ]
    },
    {
     "data": {
      "text/plain": [
       "'That\\'s a subjective question, as humor is different for everyone. However, one of the most popular jokes of all time is \"Why did the chicken cross the road? To get to the other side!\"'"
      ]
     },
     "execution_count": null,
     "metadata": {},
     "output_type": "execute_result"
    }
   ],
   "source": [
    "#| eval: false\n",
    "conversation.predict(input=\"What is the best joke ever?\")"
   ]
  },
  {
   "cell_type": "code",
   "execution_count": null,
   "metadata": {},
   "outputs": [
    {
     "name": "stdout",
     "output_type": "stream",
     "text": [
      "\n",
      "\n",
      "\u001b[1m> Entering new  chain...\u001b[0m\n",
      "Prompt after formatting:\n",
      "\u001b[32;1m\u001b[1;3mThe following is a friendly conversation between a human and an AI. The AI is talkative and provides lots of specific details from its context. If the AI does not know the answer to a question, it truthfully says it does not know.\n",
      "\n",
      "Current conversation:\n",
      "Human: Hi, my name is Łukasz\n",
      "AI: Hello Łukasz, it's nice to meet you! My name is AI. How can I assist you today?\n",
      "Human: What is the best joke ever?\n",
      "AI: That's a subjective question, as humor is different for everyone. However, one of the most popular jokes of all time is \"Why did the chicken cross the road? To get to the other side!\"\n",
      "Human: What is my name?\n",
      "AI:\u001b[0m\n"
     ]
    },
    {
     "name": "stdout",
     "output_type": "stream",
     "text": [
      "\n",
      "\u001b[1m> Finished chain.\u001b[0m\n"
     ]
    },
    {
     "data": {
      "text/plain": [
       "'Your name is Łukasz, as you mentioned earlier.'"
      ]
     },
     "execution_count": null,
     "metadata": {},
     "output_type": "execute_result"
    }
   ],
   "source": [
    "#| eval: false\n",
    "conversation.predict(input=\"What is my name?\")"
   ]
  },
  {
   "cell_type": "code",
   "execution_count": null,
   "metadata": {},
   "outputs": [
    {
     "name": "stdout",
     "output_type": "stream",
     "text": [
      "Human: Hi, my name is Łukasz\n",
      "AI: Hello Łukasz, it's nice to meet you! My name is AI. How can I assist you today?\n",
      "Human: What is the best joke ever?\n",
      "AI: That's a subjective question, as humor is different for everyone. However, one of the most popular jokes of all time is \"Why did the chicken cross the road? To get to the other side!\"\n",
      "Human: What is my name?\n",
      "AI: Your name is Łukasz, as you mentioned earlier.\n"
     ]
    }
   ],
   "source": [
    "#| eval: false\n",
    "print(memory.buffer)"
   ]
  },
  {
   "cell_type": "code",
   "execution_count": null,
   "metadata": {},
   "outputs": [
    {
     "data": {
      "text/plain": [
       "{'history': 'Human: Hi, my name is Łukasz\\nAI: Hello Łukasz, it\\'s nice to meet you! My name is AI. How can I assist you today?\\nHuman: What is the best joke ever?\\nAI: That\\'s a subjective question, as humor is different for everyone. However, one of the most popular jokes of all time is \"Why did the chicken cross the road? To get to the other side!\"\\nHuman: What is my name?\\nAI: Your name is Łukasz, as you mentioned earlier.'}"
      ]
     },
     "execution_count": null,
     "metadata": {},
     "output_type": "execute_result"
    }
   ],
   "source": [
    "#| eval: false\n",
    "memory.load_memory_variables({})"
   ]
  },
  {
   "cell_type": "code",
   "execution_count": null,
   "metadata": {},
   "outputs": [],
   "source": [
    "#| eval: false\n",
    "memory = ConversationBufferMemory()"
   ]
  },
  {
   "cell_type": "code",
   "execution_count": null,
   "metadata": {},
   "outputs": [],
   "source": [
    "#| eval: false\n",
    "memory.save_context(\n",
    "    {\"input\": \"Hi Joey!\"}, \n",
    "    {\"output\": \"How you doin'?\"}\n",
    ")\n"
   ]
  },
  {
   "cell_type": "code",
   "execution_count": null,
   "metadata": {},
   "outputs": [
    {
     "name": "stdout",
     "output_type": "stream",
     "text": [
      "Human: Hi Joey!\n",
      "AI: How you doin'?\n"
     ]
    }
   ],
   "source": [
    "#| eval: false\n",
    "print(memory.buffer)"
   ]
  },
  {
   "cell_type": "code",
   "execution_count": null,
   "metadata": {},
   "outputs": [
    {
     "data": {
      "text/plain": [
       "{'history': \"Human: Hi Joey!\\nAI: How you doin'?\"}"
      ]
     },
     "execution_count": null,
     "metadata": {},
     "output_type": "execute_result"
    }
   ],
   "source": [
    "#| eval: false\n",
    "memory.load_memory_variables({})"
   ]
  },
  {
   "cell_type": "code",
   "execution_count": null,
   "metadata": {},
   "outputs": [],
   "source": [
    "#| eval: false\n",
    "memory.save_context(\n",
    "    {\"input\": \"Awesome bro!\"}, \n",
    "    {\"output\": \"Do want a sandwich with salami?\"}\n",
    ")"
   ]
  },
  {
   "cell_type": "code",
   "execution_count": null,
   "metadata": {},
   "outputs": [
    {
     "data": {
      "text/plain": [
       "{'history': \"Human: Hi Joey!\\nAI: How you doin'?\\nHuman: Awesome bro!\\nAI: Do want a sandwich with salami?\"}"
      ]
     },
     "execution_count": null,
     "metadata": {},
     "output_type": "execute_result"
    }
   ],
   "source": [
    "#| eval: false\n",
    "memory.load_memory_variables({})"
   ]
  },
  {
   "cell_type": "markdown",
   "metadata": {},
   "source": [
    "## ConversationBufferWindowMemory\n"
   ]
  },
  {
   "cell_type": "code",
   "execution_count": null,
   "metadata": {},
   "outputs": [],
   "source": [
    "#| eval: false\n",
    "from langchain.memory import ConversationBufferWindowMemory\n"
   ]
  },
  {
   "cell_type": "code",
   "execution_count": null,
   "metadata": {},
   "outputs": [],
   "source": [
    "#| eval: false\n",
    "\n",
    "memory = ConversationBufferWindowMemory(k=1)               \n",
    "\n",
    "memory.save_context(\n",
    "    {\"input\": \"Hi Joey!\"}, \n",
    "    {\"output\": \"How you doin'?\"}\n",
    ")\n",
    "memory.save_context(\n",
    "    {\"input\": \"Awesome bro!\"}, \n",
    "    {\"output\": \"Do want a sandwich with salami?\"}\n",
    ")\n"
   ]
  },
  {
   "cell_type": "code",
   "execution_count": null,
   "metadata": {},
   "outputs": [
    {
     "data": {
      "text/plain": [
       "{'history': 'Human: Awesome bro!\\nAI: Do want a sandwich with salami?'}"
      ]
     },
     "execution_count": null,
     "metadata": {},
     "output_type": "execute_result"
    }
   ],
   "source": [
    "#| eval: false\n",
    "\n",
    "memory.load_memory_variables({})\n"
   ]
  },
  {
   "cell_type": "code",
   "execution_count": null,
   "metadata": {},
   "outputs": [],
   "source": [
    "#| eval: false\n",
    "\n",
    "llm = ChatOpenAI(temperature=0.0)\n",
    "memory = ConversationBufferWindowMemory(k=1)\n",
    "conversation = ConversationChain(\n",
    "    llm=llm, \n",
    "    memory = memory,\n",
    "    verbose=False\n",
    ")\n"
   ]
  },
  {
   "cell_type": "code",
   "execution_count": null,
   "metadata": {},
   "outputs": [
    {
     "data": {
      "text/plain": [
       "\"Hello Lukasz, it's nice to meet you. My name is AI. How can I assist you today?\""
      ]
     },
     "execution_count": null,
     "metadata": {},
     "output_type": "execute_result"
    }
   ],
   "source": [
    "#| eval: false\n",
    "conversation.predict(input=\"Hi, my name is Lukasz\")\n"
   ]
  },
  {
   "cell_type": "code",
   "execution_count": null,
   "metadata": {},
   "outputs": [
    {
     "data": {
      "text/plain": [
       "\"I'm sorry, Lukasz, but I'm not sure I understand your question. Could you please provide me with more context or details so I can better assist you?\""
      ]
     },
     "execution_count": null,
     "metadata": {},
     "output_type": "execute_result"
    }
   ],
   "source": [
    "#| eval: false\n",
    "\n",
    "conversation.predict(input=\"Placeholder for a very, very important question\")\n"
   ]
  },
  {
   "cell_type": "code",
   "execution_count": null,
   "metadata": {},
   "outputs": [
    {
     "data": {
      "text/plain": [
       "'Your name is Lukasz.'"
      ]
     },
     "execution_count": null,
     "metadata": {},
     "output_type": "execute_result"
    }
   ],
   "source": [
    "#| eval: false\n",
    "conversation.predict(input=\"What is my name?\")\n"
   ]
  },
  {
   "cell_type": "code",
   "execution_count": null,
   "metadata": {},
   "outputs": [
    {
     "data": {
      "text/plain": [
       "\"I'm sorry, I don't have enough context to answer that question. Could you please provide more information?\""
      ]
     },
     "execution_count": null,
     "metadata": {},
     "output_type": "execute_result"
    }
   ],
   "source": [
    "#| eval: false\n",
    "conversation.predict(input=\"Have I been asking for placeholders?\")"
   ]
  },
  {
   "cell_type": "code",
   "execution_count": null,
   "metadata": {},
   "outputs": [
    {
     "name": "stderr",
     "output_type": "stream",
     "text": [
      "Retrying langchain.chat_models.openai.ChatOpenAI.completion_with_retry.<locals>._completion_with_retry in 1.0 seconds as it raised ServiceUnavailableError: The server is overloaded or not ready yet..\n",
      "Retrying langchain.chat_models.openai.ChatOpenAI.completion_with_retry.<locals>._completion_with_retry in 2.0 seconds as it raised RateLimitError: That model is currently overloaded with other requests. You can retry your request, or contact us through our help center at help.openai.com if the error persists. (Please include the request ID 97b35ddd62d28fcf0b82fc4ccf4d093b in your message.).\n"
     ]
    },
    {
     "data": {
      "text/plain": [
       "\"Yes, I have access to information about you based on our interactions. I know your name, some of your preferences, and some of the topics we have discussed in the past. However, I don't have access to your personal information or anything that you haven't shared with me.\""
      ]
     },
     "execution_count": null,
     "metadata": {},
     "output_type": "execute_result"
    }
   ],
   "source": [
    "#| eval: false\n",
    "conversation.predict(input=\"Nevermind! Do you know me?\")"
   ]
  },
  {
   "cell_type": "code",
   "execution_count": null,
   "metadata": {},
   "outputs": [
    {
     "data": {
      "text/plain": [
       "'Yes, your name is [insert name here].'"
      ]
     },
     "execution_count": null,
     "metadata": {},
     "output_type": "execute_result"
    }
   ],
   "source": [
    "#| eval: false\n",
    "conversation.predict(input=\"Do you remember my name?\")"
   ]
  },
  {
   "cell_type": "markdown",
   "metadata": {},
   "source": [
    "Welcom to the workshop lead by `[insert name here]` :) "
   ]
  },
  {
   "cell_type": "markdown",
   "metadata": {},
   "source": [
    "\n",
    "## ConversationTokenBufferMemory\n"
   ]
  },
  {
   "cell_type": "code",
   "execution_count": null,
   "metadata": {},
   "outputs": [],
   "source": [
    "#| eval: false\n",
    "from langchain.memory import ConversationTokenBufferMemory\n",
    "from langchain.llms import OpenAI"
   ]
  },
  {
   "cell_type": "code",
   "execution_count": null,
   "metadata": {},
   "outputs": [
    {
     "data": {
      "text/plain": [
       "{'history': 'Human: Awesome bro!\\nAI: Do want a sandwich with salami?'}"
      ]
     },
     "execution_count": null,
     "metadata": {},
     "output_type": "execute_result"
    }
   ],
   "source": [
    "#| eval: false\n",
    "llm = ChatOpenAI(temperature=0.0)\n",
    "\n",
    "memory = ConversationTokenBufferMemory(llm=llm, max_token_limit=30)\n",
    "\n",
    "memory.save_context(\n",
    "    {\"input\": \"Hi Joey!\"}, \n",
    "    {\"output\": \"How you doin'?\"}\n",
    ")\n",
    "memory.save_context(\n",
    "    {\"input\": \"Awesome bro!\"}, \n",
    "    {\"output\": \"Do want a sandwich with salami?\"}\n",
    ")\n",
    "\n",
    "memory.load_memory_variables({})\n",
    "\n"
   ]
  },
  {
   "cell_type": "markdown",
   "metadata": {},
   "source": [
    "## ConversationSummaryMemory\n"
   ]
  },
  {
   "cell_type": "code",
   "execution_count": null,
   "metadata": {},
   "outputs": [],
   "source": [
    "#| eval: false\n",
    "from langchain.memory import ConversationSummaryBufferMemory\n"
   ]
  },
  {
   "cell_type": "code",
   "execution_count": null,
   "metadata": {},
   "outputs": [],
   "source": [
    "chatbot_system_prompt = \"\"\"\n",
    "Jesteś asystentem AI Szkoły Letniej, pomagasz uczestnikom wybrać najlepsze warsztaty. \n",
    "\n",
    "###\n",
    "\n",
    "Workshops:\n",
    "Bartosz Kolasa\tMLOps\tSystematizing a research code aka introduction to Kedro framework\tDuring the workshops I would like to present the Kedro framework which is a MLOps tool to systematize any data science research project into a pipeline represented by a DAG (directed acyclic graph). Such an approach helps in creating more reproducible experiments that could be much more easily moved from your laptop to processing on a bigger cluster or in the cloud.\n",
    "Łukasz Augustyniak\tPrompt Engineering\tLarge Language Models - from Demo to Production\t\"In this interactive workshop, we will delve into the fascinating world of large language models and explore their potential in revolutionizing various industries. I will guide participants through the process of transforming cutting-edge demos into scalable production solutions.\n",
    "\n",
    "Participants will gain hands-on experience by working on practical exercises that demonstrate how to fine-tune these models for specific tasks. Additionally, we'll cover best practices for deploying these models at scale while maintaining efficiency and performance.\n",
    "\n",
    "Throughout the workshop, attendees can expect engaging discussions about ethical considerations surrounding AI usage as well as insights into future developments within the field. By the end of this session, participants should have a solid understanding of how to harness the power of large language models effectively in order to drive innovation across various domains.\"\n",
    "Arkadiusz Janz\tGenerative Language Models\tTraining Large Language Models with Reinforcement Learning from Human Feedback (RLHF)\tA comprehensive introduction to Generative Language Models and Reinforcement Learning from Human Feedback: a novel approach in training Large Language Models for downstream tasks. This workshop is designed to impart an in-depth understanding of fundamental concepts of Reinforcement Learning (states, actions, rewards, value functions, policies) and Generative Language Models. A theoretical comparison with Supervised Learning paradigm will be discussed, along with the advantages RLHF optimization brings to reducing biases, and overcoming sparse reward issues. Participants will engage in hands-on activities involving RLHF training with simplified models, hyperparameter tuning of RLHF models, and diving into existing RLHF programming frameworks.\n",
    "Konrad Wojtasik\tInformation Retrieval\tIntroduction to modern information retrieval\tInformation retrieval plays a crucial role in modern systems, finding applications across diverse domains and industries. Its relevance spans from web search and recommendation systems to product search and health and legal information retrieval. Information retrieval is not only essential for traditional search applications but also plays a vital role in retrieval-augmented Question Answering systems. Additionally, it serves as a valuable mechanism to prevent Large Language Models from generating incorrect or hallucinated information. Moreover, it ensures that their knowledge remains accurate and up-to-date. During this workshop, participants will have the opportunity to explore and understand current state-of-the-art models used in information retrieval. They will gain insights into the strengths and limitations of these models. Furthermore, the workshop will focus on setting up an information retrieval pipeline, allowing participants to gain hands-on experience in building and implementing such systems. Additionally, participants will learn how to effectively measure and evaluate the performance of their information retrieval pipelines.\n",
    "Mateusz Gniewkowski\tXAI\tModel Agnostic Explanations Techniques\t\"Machine learning models can often be complex and difficult to understand, therefore it is important to be able to explain how these models work, as they are increasingly used in a wide range of industries and applications.\n",
    "The workshop will start by discussing some basic ways to explain machine learning models, such as using feature importance measures, decision trees, and visualization tools. However, the focus will then shift to model-agnostic techniques, which can be applied to any type of machine learning model.\n",
    "The techniques that will be covered in the workshop include LIME (Local Interpretable Model-Agnostic Explanations) and SHAP (SHapley Additive exPlanations). These libraries are designed to provide more transparent and understandable explanations for machine learning models, even when the models themselves are complex or difficult to interpret.\"\n",
    "Piotr Bielak\tRepresentation learning\tIntroduction to graph representation learning\tIn recent years, representation learning has attracted much attention both in the research community and industrial applications. Learning representations for graphs is especially challenging due to the relational nature of such data, i.e., one must reflect both the rich attribute space and graph structure in the embedding vectors. During this workshop, I will show how to use the PyTorch-Geometric library to easily build graph representations and solve a variety of applications. We will explore node, edge and graph-level representations through the prism of their associated downstream tasks and corresponding deep learning models (Graph Neural Networks).\n",
    "Denis Janiak\tRepresentation learning, Bayesian methods\tDoes Representation Know What It Doesn't Know? \t\"Uncertainty estimation is a critical aspect of artificial intelligence systems, enabling them to quantify their confidence and provide reliable predictions. However, accurately assessing uncertainty becomes increasingly challenging when AI models encounter scenarios outside their training data distribution. This workshop, titled \"\"Does Representation Know What It Doesn't Know?,\"\" aims to explore the concept of uncertainty estimation in AI systems and delve into the question of whether representations within these systems possess the ability to recognize their own limitations. During the workshop, we will investigate the various techniques and methodologies employed in uncertainty estimation, such as Bayesian approaches and deep learning-based techniques. We will analyze the strengths and limitations of these approaches and discuss their implications for real-world applications.\n",
    "Furthermore, the workshop will delve into the concept of representation learning and its impact on uncertainty estimation. We will examine whether AI systems can effectively recognize when they are faced with novel or out-of-distribution inputs. Additionally, we will explore approaches to measure and improve representation awareness, enabling models to identify areas of uncertainty and seek further guidance or human intervention when necessary.\n",
    "By the end of the workshop, attendees will gain a deeper understanding of the state-of-the-art techniques for uncertainty estimation and its importance in building robust AI systems. They will also gain insights into the fundamental question of whether representations within AI models possess the capability to identify areas of uncertainty and adapt accordingly. \"\n",
    "Albert Sawczyn\tRepresentation learning\tKnowledge Graph Representation Learning\tKnowledge graphs have emerged as powerful tools for organizing and representing structured information in various domains, enabling efficient data integration, inference, and knowledge discovery. Knowledge graph representation learning aims to capture the rich semantic relationships and contextual information within knowledge graphs, facilitating effective knowledge inference and reasoning. This workshop aims to introduce the fundamental challenge of learning representations for knowledge graphs and highlight their significance in practical applications. Practical demonstrations will show how to easily learn representation using the PyKEEN library and how to apply it to a real-world NLP problem. \n",
    "Jakub Binkowski\tRepresentation learning\tGenerative models for graphs\tAfter many advancements in the realm of Graph Representation Learning, graph generation gained much attention due to its vast range of applications (e.g. drug design). Nonetheless, due to the nature of graph data, this task is very difficult and further breakthroughs still need to be discovered. Hence the workshop will provide a ground understanding of the selected methods and problems associated with graph generation. During the workshop, I will show the most important methods in theory and practice. I will show how to implement these methods leveraging Pytorch Geometric library. We will go through training and evaluation using common datasets.\n",
    "Kamil Kanclerz\tNLP, Personalization\tSubjective problems in NLP\t\"A unified gold standard commonly exploited in natural language processing (NLP) tasks requires high inter-annotator agreement. However, there are many subjective problems that should respect users’ individual points of view. At the first glance, disagreement and non-regular annotations can be seen as noise that drags the performance of NLP task detection models down. As we know, the ability to think and perceive the environment differently is natural to humans as such. Therefore, it is crucial to include this observation while building predictive models in order to reflect the setup close to reality. As simple as this may seem, it is important to keep in mind that the key ideas behind NLP phenomenon detection, such as gold standard, agreement coefficients, or the evaluation itself need to be thoroughly analyzed and reconsidered especially for subjective NLP tasks like hate speech detection, prediction of emotional elicitation, sense of humor, sarcasm detection, or even sentiment analysis. Such NLP tasks come with each complexity of their own, especially within the aspect of subjectivity, therefore making them difficult to solve compared to non-subjective tasks.\n",
    "\n",
    "During the workshop, the participants will be introduced to the novel deep neural architectures leveraging various user representations. Moreover, the user-centered data setups will be explained in comparison to their ground truth equivalents. Additionally, the personalized evaluation techniques will be presented as the methods providing further insight into model ability to understand differences between various user perspectives.\"\n",
    "Mateusz Wójcik\tMLOps, continual learning\tContinual Learning - techniques and applications\t\"Recently, neural architectures have become effective and widely used in various domains. The parameter optimization process based on gradient descent works well when the data set is sufficiently large and fully available during the training process. But what if we don’t have all the data available during training? What if the number of classes increase? As a result, we have to manually retrain the models from scratch ensuing a time-consuming process.\n",
    "\n",
    "During this workshop you will learn about the Continual Learning and its applications. We will discuss the catastrophic forgetting and explore various techniques that trying to prevent it starting from simple neural networks up to modern LLMs. As a result, you will understand why we need Continual Learning and how to apply it to existing or new models.\"\n",
    "Patryk Wielopolski\tGenerative Models\tConditional object generation using pre-trained models and plug-in networks\tGenerative models have gained many Machine Learning practitioners’ attention in the last years resulting in models such as StyleGAN for human face generation or PointFlow for the 3D point cloud generation. However, by default, we cannot control its sampling process, i.e., we cannot generate a sample with a specific set of attributes. The current approach is model retraining with additional inputs and different architecture, which requires time and computational resources. During this hands-on workshop we will go through a method which enables to generate objects with a given set of attributes without retraining the base model. For this purpose, we will utilize the normalizing flow models - Conditional Masked Autoregressive Flow and Conditional Real NVP, and plug-in networks resulting in the Flow Plugin Network.\n",
    "Michał Czuba\tNetwork Science\tComplex networks part II - spreading processes\tTwo years ago, the world faced SARS-CoV-2 and the biggest pandemic in the century. Since last winter, with an incursion of Russian troops in Ukraine, all civilised countries have been subjected to misinformation. This year with an election in Poland, a festival of campaign promises has started. The nature of these three examples is complex and hard to analyse. Nonetheless, one of the approaches leading to understanding and controlling such processes is a network simulation. During this workshop, you will learn an essential toolkit to model and analyse spreading phenomena in complex networks. You will understand how to simulate such processes as epidemics or opinion dynamics and how to identify key spreaders of fake news or the most fragile individuals to be vaccinated in the first place.\n",
    "Mateusz Nurek\tNetwork Science\tComplex networks part I - social network analysis \tComputational network science is a field of artificial intelligence that analyses graphs in applied problems involving social, transportation, epidemiological or energy issues. This workshop will teach you fundamental tools and techniques for analysing this data type. Based on a case study - the history of communication in a particular company, we will solve the problem of optimising the structure of its organisation. We will detect natural teams from employees most intensively working together. We will also identify key personnel, i.e. employees whose loss can cause communication paralysis.\n",
    "Damian Serwata\tNetwork Science\t\"Complex networks I - social network analysis\n",
    "Complex networks II - spreading processes\"\t\n",
    "Michał Karol\tML w medycynie\tComputer Vision for medical image processing\tComputer vision has emerged as a revolutionary technology in the medical field, bringing significant transformations in various aspects of healthcare. Its application in clinical practice has paved the way for improved diagnostics, more accurate disease detection, and enhanced treatment planning. The objective of this workshop is to bring comprehensive understanding of the impact of computer vision in clinical practice. Participants will gain insights into how this technology is reshaping healthcare and improving patient outcomes. By exploring the latest advancements in certified medical systems, attendees will learn about the integration of computer vision into existing medical frameworks and protocols. Moreover, the workshop will delve into current research areas within computer vision in medicine. Participants will be introduced to cutting-edge studies and ongoing projects that aim to further enhance the capabilities of computer vision in the healthcare domain. In the second part of the workshop, there will be an interactive session focused on implementing classification and segmentation networks using the JAX framework and the Flax library. \n",
    "Piotr Kawa\tAnaliza dźwięku (TTS, DF)\tGenerating audio DeepFakes and how to detect them\tRecent advances in audio processing and speech synthesis allow the creation of realistic speech - DeepFakes. Despite a number of advantages, this technology poses a threat through its potential applications including disinformation spreading. Participants in this workshop will learn about the latest technologies for speech generation and then how to defend themselves against the malicious use of this technology using state-of-the-art DeepFake detection techniques.\n",
    "\n",
    "\"\"\""
   ]
  },
  {
   "cell_type": "code",
   "execution_count": null,
   "metadata": {},
   "outputs": [
    {
     "data": {
      "text/plain": [
       "{'history': 'System: The human greets the AI in Polish and the AI responds, introducing itself as an assistant for the AI Tech summer school. The human expresses interest in workshops and the AI provides a list of available workshops with brief descriptions. The workshops cover topics such as MLOps, large language models, generative language models, information retrieval, model agnostic explanation techniques, representation learning, Bayesian methods, NLP, personalization, continual learning, generative models, network science, and computer vision for medical image processing. The AI also mentions a workshop on generating audio DeepFakes and how to detect them.'}"
      ]
     },
     "execution_count": null,
     "metadata": {},
     "output_type": "execute_result"
    }
   ],
   "source": [
    "#| eval: false\n",
    "memory = ConversationSummaryBufferMemory(llm=llm, max_token_limit=2000)\n",
    "memory.save_context(\n",
    "    {\"input\": \"Cześć\"}, \n",
    "    {\"output\": \"Cześć, jestem asystentem studenta na szkole letniej AI Tech. Pomogę znaleźć Ci odpowiednie warsztaty i wykłady.\"}\n",
    ")\n",
    "memory.save_context(\n",
    "    {\"input\": \"Szukam warsztatów\"},\n",
    "    {\"output\": f\"Pewnie chodzi Ci o te super warsztaty na szkole letniej AI tech? Na jaki temat szukasz warsztatów? Możliwe to: {chatbot_system_prompt}\"}\n",
    ")\n",
    "\n",
    "memory.load_memory_variables({})"
   ]
  },
  {
   "cell_type": "code",
   "execution_count": null,
   "metadata": {},
   "outputs": [
    {
     "name": "stdout",
     "output_type": "stream",
     "text": [
      "\n",
      "\n",
      "\u001b[1m> Entering new  chain...\u001b[0m\n",
      "Prompt after formatting:\n",
      "\u001b[32;1m\u001b[1;3mThe following is a friendly conversation between a human and an AI. The AI is talkative and provides lots of specific details from its context. If the AI does not know the answer to a question, it truthfully says it does not know.\n",
      "\n",
      "Current conversation:\n",
      "System: The human greets the AI in Polish and the AI responds, introducing itself as an assistant for the AI Tech summer school. The human expresses interest in workshops and the AI provides a list of available workshops with brief descriptions. The workshops cover topics such as MLOps, large language models, generative language models, information retrieval, model agnostic explanation techniques, representation learning, Bayesian methods, NLP, personalization, continual learning, generative models, network science, and computer vision for medical image processing. The AI also mentions a workshop on generating audio DeepFakes and how to detect them.\n",
      "Human: jest coś z Large language models?\n",
      "AI:\u001b[0m\n",
      "\n",
      "\u001b[1m> Finished chain.\u001b[0m\n"
     ]
    },
    {
     "data": {
      "text/plain": [
       "'Tak, mamy warsztat dotyczący dużych modeli językowych. W tym warsztacie uczestnicy będą mieli okazję nauczyć się, jak budować i trenować modele językowe o dużej skali, takie jak GPT-3. Będziemy omawiać różne techniki i narzędzia, które pomogą w tworzeniu i optymalizacji tych modeli. Warsztat ten będzie prowadzony przez doświadczonych specjalistów z dziedziny uczenia maszynowego i będzie składał się z wykładów, ćwiczeń praktycznych i dyskusji.'"
      ]
     },
     "execution_count": null,
     "metadata": {},
     "output_type": "execute_result"
    }
   ],
   "source": [
    "#| eval: false\n",
    "conversation = ConversationChain(\n",
    "    llm=llm, \n",
    "    memory = memory,\n",
    "    verbose=True\n",
    ")\n",
    "\n",
    "conversation.predict(input=\"jest coś z Large language models?\")"
   ]
  },
  {
   "cell_type": "code",
   "execution_count": null,
   "metadata": {},
   "outputs": [
    {
     "name": "stdout",
     "output_type": "stream",
     "text": [
      "\n",
      "\n",
      "\u001b[1m> Entering new  chain...\u001b[0m\n",
      "Prompt after formatting:\n",
      "\u001b[32;1m\u001b[1;3mThe following is a friendly conversation between a human and an AI. The AI is talkative and provides lots of specific details from its context. If the AI does not know the answer to a question, it truthfully says it does not know.\n",
      "\n",
      "Current conversation:\n",
      "System: The human greets the AI in Polish and the AI responds, introducing itself as an assistant for the AI Tech summer school. The human expresses interest in workshops and the AI provides a list of available workshops with brief descriptions. The workshops cover topics such as MLOps, large language models, generative language models, information retrieval, model agnostic explanation techniques, representation learning, Bayesian methods, NLP, personalization, continual learning, generative models, network science, and computer vision for medical image processing. The AI also mentions a workshop on generating audio DeepFakes and how to detect them.\n",
      "Human: jest coś z Large language models?\n",
      "AI: Tak, mamy warsztat dotyczący dużych modeli językowych. W tym warsztacie uczestnicy będą mieli okazję nauczyć się, jak budować i trenować modele językowe o dużej skali, takie jak GPT-3. Będziemy omawiać różne techniki i narzędzia, które pomogą w tworzeniu i optymalizacji tych modeli. Warsztat ten będzie prowadzony przez doświadczonych specjalistów z dziedziny uczenia maszynowego i będzie składał się z wykładów, ćwiczeń praktycznych i dyskusji.\n",
      "Human: a kto go prowadzi?\n",
      "AI:\u001b[0m\n"
     ]
    },
    {
     "name": "stdout",
     "output_type": "stream",
     "text": [
      "\n",
      "\u001b[1m> Finished chain.\u001b[0m\n"
     ]
    },
    {
     "data": {
      "text/plain": [
       "'Warsztat dotyczący dużych modeli językowych będzie prowadzony przez dr. Johna Smitha, który jest ekspertem w dziedzinie uczenia maszynowego i ma wiele lat doświadczenia w pracy z dużymi modelami językowymi. Dr. Smith jest autorem wielu publikacji naukowych na ten temat i jest znany z prowadzenia interaktywnych i praktycznych warsztatów.'"
      ]
     },
     "execution_count": null,
     "metadata": {},
     "output_type": "execute_result"
    }
   ],
   "source": [
    "#| eval: false\n",
    "conversation.predict(input=\"a kto go prowadzi?\")"
   ]
  },
  {
   "cell_type": "code",
   "execution_count": null,
   "metadata": {},
   "outputs": [
    {
     "data": {
      "text/plain": [
       "{'history': 'System: The human greets the AI in Polish and the AI responds, introducing itself as an assistant for the AI Tech summer school. The human expresses interest in workshops and the AI provides a list of available workshops with brief descriptions. The workshops cover topics such as MLOps, large language models, generative language models, information retrieval, model agnostic explanation techniques, representation learning, Bayesian methods, NLP, personalization, continual learning, generative models, network science, and computer vision for medical image processing. The AI also mentions a workshop on generating audio DeepFakes and how to detect them.\\nHuman: jest coś z Large language models?\\nAI: Tak, mamy warsztat dotyczący dużych modeli językowych. W tym warsztacie uczestnicy będą mieli okazję nauczyć się, jak budować i trenować modele językowe o dużej skali, takie jak GPT-3. Będziemy omawiać różne techniki i narzędzia, które pomogą w tworzeniu i optymalizacji tych modeli. Warsztat ten będzie prowadzony przez doświadczonych specjalistów z dziedziny uczenia maszynowego i będzie składał się z wykładów, ćwiczeń praktycznych i dyskusji.\\nHuman: a kto go prowadzi?\\nAI: Warsztat dotyczący dużych modeli językowych będzie prowadzony przez dr. Johna Smitha, który jest ekspertem w dziedzinie uczenia maszynowego i ma wiele lat doświadczenia w pracy z dużymi modelami językowymi. Dr. Smith jest autorem wielu publikacji naukowych na ten temat i jest znany z prowadzenia interaktywnych i praktycznych warsztatów.'}"
      ]
     },
     "execution_count": null,
     "metadata": {},
     "output_type": "execute_result"
    }
   ],
   "source": [
    "#| eval: false\n",
    "memory.load_memory_variables({})"
   ]
  },
  {
   "cell_type": "markdown",
   "metadata": {},
   "source": [
    "Where is our workshop list?"
   ]
  },
  {
   "cell_type": "code",
   "execution_count": null,
   "metadata": {},
   "outputs": [],
   "source": [
    "#| eval: false\n",
    "from langchain.memory import ConversationBufferMemory\n",
    "from langchain import OpenAI, LLMChain, PromptTemplate"
   ]
  },
  {
   "cell_type": "code",
   "execution_count": null,
   "metadata": {},
   "outputs": [],
   "source": [
    "#| eval: false\n",
    "template = chatbot_system_prompt + \"\"\"\n",
    "\n",
    "Historia Rozmowy:\n",
    "{chat_history}\n",
    "Student: {human_input}\n",
    "Asystent:\"\"\"\n",
    "\n",
    "prompt = PromptTemplate(\n",
    "    input_variables=[\"chat_history\", \"human_input\"], template=template\n",
    ")\n",
    "memory = ConversationBufferMemory(memory_key=\"chat_history\")"
   ]
  },
  {
   "cell_type": "code",
   "execution_count": null,
   "metadata": {},
   "outputs": [],
   "source": [
    "#| eval: false\n",
    "llm_chain = LLMChain(\n",
    "    llm=OpenAI(),\n",
    "    prompt=prompt,\n",
    "    verbose=True,\n",
    "    memory=memory,\n",
    ")"
   ]
  },
  {
   "cell_type": "code",
   "execution_count": null,
   "metadata": {},
   "outputs": [
    {
     "data": {
      "text/plain": [
       "{'chat_history': ''}"
      ]
     },
     "execution_count": null,
     "metadata": {},
     "output_type": "execute_result"
    }
   ],
   "source": [
    "#| eval: false\n",
    "memory.load_memory_variables({})"
   ]
  },
  {
   "cell_type": "code",
   "execution_count": null,
   "metadata": {},
   "outputs": [
    {
     "name": "stdout",
     "output_type": "stream",
     "text": [
      "\n",
      "\n",
      "\u001b[1m> Entering new  chain...\u001b[0m\n",
      "Prompt after formatting:\n",
      "\u001b[32;1m\u001b[1;3m\n",
      "###\n",
      "\n",
      "Workshops:\n",
      "Bartosz Kolasa\tMLOps\tSystematizing a research code aka introduction to Kedro framework\tDuring the workshops I would like to present the Kedro framework which is a MLOps tool to systematize any data science research project into a pipeline represented by a DAG (directed acyclic graph). Such an approach helps in creating more reproducible experiments that could be much more easily moved from your laptop to processing on a bigger cluster or in the cloud.\n",
      "Łukasz Augustyniak\tPrompt Engineering\tLarge Language Models - from Demo to Production\t\"In this interactive workshop, we will delve into the fascinating world of large language models and explore their potential in revolutionizing various industries. I will guide participants through the process of transforming cutting-edge demos into scalable production solutions.\n",
      "\n",
      "Participants will gain hands-on experience by working on practical exercises that demonstrate how to fine-tune these models for specific tasks. Additionally, we'll cover best practices for deploying these models at scale while maintaining efficiency and performance.\n",
      "\n",
      "Throughout the workshop, attendees can expect engaging discussions about ethical considerations surrounding AI usage as well as insights into future developments within the field. By the end of this session, participants should have a solid understanding of how to harness the power of large language models effectively in order to drive innovation across various domains.\"\n",
      "Arkadiusz Janz\tGenerative Language Models\tTraining Large Language Models with Reinforcement Learning from Human Feedback (RLHF)\tA comprehensive introduction to Generative Language Models and Reinforcement Learning from Human Feedback: a novel approach in training Large Language Models for downstream tasks. This workshop is designed to impart an in-depth understanding of fundamental concepts of Reinforcement Learning (states, actions, rewards, value functions, policies) and Generative Language Models. A theoretical comparison with Supervised Learning paradigm will be discussed, along with the advantages RLHF optimization brings to reducing biases, and overcoming sparse reward issues. Participants will engage in hands-on activities involving RLHF training with simplified models, hyperparameter tuning of RLHF models, and diving into existing RLHF programming frameworks.\n",
      "Konrad Wojtasik\tInformation Retrieval\tIntroduction to modern information retrieval\tInformation retrieval plays a crucial role in modern systems, finding applications across diverse domains and industries. Its relevance spans from web search and recommendation systems to product search and health and legal information retrieval. Information retrieval is not only essential for traditional search applications but also plays a vital role in retrieval-augmented Question Answering systems. Additionally, it serves as a valuable mechanism to prevent Large Language Models from generating incorrect or hallucinated information. Moreover, it ensures that their knowledge remains accurate and up-to-date. During this workshop, participants will have the opportunity to explore and understand current state-of-the-art models used in information retrieval. They will gain insights into the strengths and limitations of these models. Furthermore, the workshop will focus on setting up an information retrieval pipeline, allowing participants to gain hands-on experience in building and implementing such systems. Additionally, participants will learn how to effectively measure and evaluate the performance of their information retrieval pipelines.\n",
      "Mateusz Gniewkowski\tXAI\tModel Agnostic Explanations Techniques\t\"Machine learning models can often be complex and difficult to understand, therefore it is important to be able to explain how these models work, as they are increasingly used in a wide range of industries and applications.\n",
      "The workshop will start by discussing some basic ways to explain machine learning models, such as using feature importance measures, decision trees, and visualization tools. However, the focus will then shift to model-agnostic techniques, which can be applied to any type of machine learning model.\n",
      "The techniques that will be covered in the workshop include LIME (Local Interpretable Model-Agnostic Explanations) and SHAP (SHapley Additive exPlanations). These libraries are designed to provide more transparent and understandable explanations for machine learning models, even when the models themselves are complex or difficult to interpret.\"\n",
      "Piotr Bielak\tRepresentation learning\tIntroduction to graph representation learning\tIn recent years, representation learning has attracted much attention both in the research community and industrial applications. Learning representations for graphs is especially challenging due to the relational nature of such data, i.e., one must reflect both the rich attribute space and graph structure in the embedding vectors. During this workshop, I will show how to use the PyTorch-Geometric library to easily build graph representations and solve a variety of applications. We will explore node, edge and graph-level representations through the prism of their associated downstream tasks and corresponding deep learning models (Graph Neural Networks).\n",
      "Denis Janiak\tRepresentation learning, Bayesian methods\tDoes Representation Know What It Doesn't Know? \t\"Uncertainty estimation is a critical aspect of artificial intelligence systems, enabling them to quantify their confidence and provide reliable predictions. However, accurately assessing uncertainty becomes increasingly challenging when AI models encounter scenarios outside their training data distribution. This workshop, titled \"\"Does Representation Know What It Doesn't Know?,\"\" aims to explore the concept of uncertainty estimation in AI systems and delve into the question of whether representations within these systems possess the ability to recognize their own limitations. During the workshop, we will investigate the various techniques and methodologies employed in uncertainty estimation, such as Bayesian approaches and deep learning-based techniques. We will analyze the strengths and limitations of these approaches and discuss their implications for real-world applications.\n",
      "Furthermore, the workshop will delve into the concept of representation learning and its impact on uncertainty estimation. We will examine whether AI systems can effectively recognize when they are faced with novel or out-of-distribution inputs. Additionally, we will explore approaches to measure and improve representation awareness, enabling models to identify areas of uncertainty and seek further guidance or human intervention when necessary.\n",
      "By the end of the workshop, attendees will gain a deeper understanding of the state-of-the-art techniques for uncertainty estimation and its importance in building robust AI systems. They will also gain insights into the fundamental question of whether representations within AI models possess the capability to identify areas of uncertainty and adapt accordingly. \"\n",
      "Albert Sawczyn\tRepresentation learning\tKnowledge Graph Representation Learning\tKnowledge graphs have emerged as powerful tools for organizing and representing structured information in various domains, enabling efficient data integration, inference, and knowledge discovery. Knowledge graph representation learning aims to capture the rich semantic relationships and contextual information within knowledge graphs, facilitating effective knowledge inference and reasoning. This workshop aims to introduce the fundamental challenge of learning representations for knowledge graphs and highlight their significance in practical applications. Practical demonstrations will show how to easily learn representation using the PyKEEN library and how to apply it to a real-world NLP problem. \n",
      "Jakub Binkowski\tRepresentation learning\tGenerative models for graphs\tAfter many advancements in the realm of Graph Representation Learning, graph generation gained much attention due to its vast range of applications (e.g. drug design). Nonetheless, due to the nature of graph data, this task is very difficult and further breakthroughs still need to be discovered. Hence the workshop will provide a ground understanding of the selected methods and problems associated with graph generation. During the workshop, I will show the most important methods in theory and practice. I will show how to implement these methods leveraging Pytorch Geometric library. We will go through training and evaluation using common datasets.\n",
      "Kamil Kanclerz\tNLP, Personalization\tSubjective problems in NLP\t\"A unified gold standard commonly exploited in natural language processing (NLP) tasks requires high inter-annotator agreement. However, there are many subjective problems that should respect users’ individual points of view. At the first glance, disagreement and non-regular annotations can be seen as noise that drags the performance of NLP task detection models down. As we know, the ability to think and perceive the environment differently is natural to humans as such. Therefore, it is crucial to include this observation while building predictive models in order to reflect the setup close to reality. As simple as this may seem, it is important to keep in mind that the key ideas behind NLP phenomenon detection, such as gold standard, agreement coefficients, or the evaluation itself need to be thoroughly analyzed and reconsidered especially for subjective NLP tasks like hate speech detection, prediction of emotional elicitation, sense of humor, sarcasm detection, or even sentiment analysis. Such NLP tasks come with each complexity of their own, especially within the aspect of subjectivity, therefore making them difficult to solve compared to non-subjective tasks.\n",
      "\n",
      "During the workshop, the participants will be introduced to the novel deep neural architectures leveraging various user representations. Moreover, the user-centered data setups will be explained in comparison to their ground truth equivalents. Additionally, the personalized evaluation techniques will be presented as the methods providing further insight into model ability to understand differences between various user perspectives.\"\n",
      "Mateusz Wójcik\tMLOps, continual learning\tContinual Learning - techniques and applications\t\"Recently, neural architectures have become effective and widely used in various domains. The parameter optimization process based on gradient descent works well when the data set is sufficiently large and fully available during the training process. But what if we don’t have all the data available during training? What if the number of classes increase? As a result, we have to manually retrain the models from scratch ensuing a time-consuming process.\n",
      "\n",
      "During this workshop you will learn about the Continual Learning and its applications. We will discuss the catastrophic forgetting and explore various techniques that trying to prevent it starting from simple neural networks up to modern LLMs. As a result, you will understand why we need Continual Learning and how to apply it to existing or new models.\"\n",
      "Patryk Wielopolski\tGenerative Models\tConditional object generation using pre-trained models and plug-in networks\tGenerative models have gained many Machine Learning practitioners’ attention in the last years resulting in models such as StyleGAN for human face generation or PointFlow for the 3D point cloud generation. However, by default, we cannot control its sampling process, i.e., we cannot generate a sample with a specific set of attributes. The current approach is model retraining with additional inputs and different architecture, which requires time and computational resources. During this hands-on workshop we will go through a method which enables to generate objects with a given set of attributes without retraining the base model. For this purpose, we will utilize the normalizing flow models - Conditional Masked Autoregressive Flow and Conditional Real NVP, and plug-in networks resulting in the Flow Plugin Network.\n",
      "Michał Czuba\tNetwork Science\tComplex networks part II - spreading processes\tTwo years ago, the world faced SARS-CoV-2 and the biggest pandemic in the century. Since last winter, with an incursion of Russian troops in Ukraine, all civilised countries have been subjected to misinformation. This year with an election in Poland, a festival of campaign promises has started. The nature of these three examples is complex and hard to analyse. Nonetheless, one of the approaches leading to understanding and controlling such processes is a network simulation. During this workshop, you will learn an essential toolkit to model and analyse spreading phenomena in complex networks. You will understand how to simulate such processes as epidemics or opinion dynamics and how to identify key spreaders of fake news or the most fragile individuals to be vaccinated in the first place.\n",
      "Mateusz Nurek\tNetwork Science\tComplex networks part I - social network analysis \tComputational network science is a field of artificial intelligence that analyses graphs in applied problems involving social, transportation, epidemiological or energy issues. This workshop will teach you fundamental tools and techniques for analysing this data type. Based on a case study - the history of communication in a particular company, we will solve the problem of optimising the structure of its organisation. We will detect natural teams from employees most intensively working together. We will also identify key personnel, i.e. employees whose loss can cause communication paralysis.\n",
      "Damian Serwata\tNetwork Science\t\"Complex networks I - social network analysis\n",
      "Complex networks II - spreading processes\"\t\n",
      "Michał Karol\tML w medycynie\tComputer Vision for medical image processing\tComputer vision has emerged as a revolutionary technology in the medical field, bringing significant transformations in various aspects of healthcare. Its application in clinical practice has paved the way for improved diagnostics, more accurate disease detection, and enhanced treatment planning. The objective of this workshop is to bring comprehensive understanding of the impact of computer vision in clinical practice. Participants will gain insights into how this technology is reshaping healthcare and improving patient outcomes. By exploring the latest advancements in certified medical systems, attendees will learn about the integration of computer vision into existing medical frameworks and protocols. Moreover, the workshop will delve into current research areas within computer vision in medicine. Participants will be introduced to cutting-edge studies and ongoing projects that aim to further enhance the capabilities of computer vision in the healthcare domain. In the second part of the workshop, there will be an interactive session focused on implementing classification and segmentation networks using the JAX framework and the Flax library. \n",
      "Piotr Kawa\tAnaliza dźwięku (TTS, DF)\tGenerating audio DeepFakes and how to detect them\tRecent advances in audio processing and speech synthesis allow the creation of realistic speech - DeepFakes. Despite a number of advantages, this technology poses a threat through its potential applications including disinformation spreading. Participants in this workshop will learn about the latest technologies for speech generation and then how to defend themselves against the malicious use of this technology using state-of-the-art DeepFake detection techniques.\n",
      "\n",
      "\n",
      "\n",
      "Historia Rozmowy:\n",
      "\n",
      "Student: jest coś z Large language models?\n",
      "Asystent:\u001b[0m\n",
      "\n",
      "\u001b[1m> Finished chain.\u001b[0m\n"
     ]
    },
    {
     "data": {
      "text/plain": [
       "' Tak, mamy kilka warsztatów dotyczących dużych językowych modeli. Zajrzyj do listy warsztatów, aby zobaczyć szczegóły: Łukasz Augustyniak ma warsztat pt. \"Duże językowe modele - od demo do produkcji\". Kamil Kanclerz ma warsztat pt. „Problem subiektywny w NLP”.'"
      ]
     },
     "execution_count": null,
     "metadata": {},
     "output_type": "execute_result"
    }
   ],
   "source": [
    "#| eval: false\n",
    "llm_chain.predict(human_input=\"jest coś z Large language models?\")"
   ]
  },
  {
   "cell_type": "code",
   "execution_count": null,
   "metadata": {},
   "outputs": [
    {
     "name": "stdout",
     "output_type": "stream",
     "text": [
      "\n",
      "\n",
      "\u001b[1m> Entering new  chain...\u001b[0m\n",
      "Prompt after formatting:\n",
      "\u001b[32;1m\u001b[1;3m\n",
      "###\n",
      "\n",
      "Workshops:\n",
      "Bartosz Kolasa\tMLOps\tSystematizing a research code aka introduction to Kedro framework\tDuring the workshops I would like to present the Kedro framework which is a MLOps tool to systematize any data science research project into a pipeline represented by a DAG (directed acyclic graph). Such an approach helps in creating more reproducible experiments that could be much more easily moved from your laptop to processing on a bigger cluster or in the cloud.\n",
      "Łukasz Augustyniak\tPrompt Engineering\tLarge Language Models - from Demo to Production\t\"In this interactive workshop, we will delve into the fascinating world of large language models and explore their potential in revolutionizing various industries. I will guide participants through the process of transforming cutting-edge demos into scalable production solutions.\n",
      "\n",
      "Participants will gain hands-on experience by working on practical exercises that demonstrate how to fine-tune these models for specific tasks. Additionally, we'll cover best practices for deploying these models at scale while maintaining efficiency and performance.\n",
      "\n",
      "Throughout the workshop, attendees can expect engaging discussions about ethical considerations surrounding AI usage as well as insights into future developments within the field. By the end of this session, participants should have a solid understanding of how to harness the power of large language models effectively in order to drive innovation across various domains.\"\n",
      "Arkadiusz Janz\tGenerative Language Models\tTraining Large Language Models with Reinforcement Learning from Human Feedback (RLHF)\tA comprehensive introduction to Generative Language Models and Reinforcement Learning from Human Feedback: a novel approach in training Large Language Models for downstream tasks. This workshop is designed to impart an in-depth understanding of fundamental concepts of Reinforcement Learning (states, actions, rewards, value functions, policies) and Generative Language Models. A theoretical comparison with Supervised Learning paradigm will be discussed, along with the advantages RLHF optimization brings to reducing biases, and overcoming sparse reward issues. Participants will engage in hands-on activities involving RLHF training with simplified models, hyperparameter tuning of RLHF models, and diving into existing RLHF programming frameworks.\n",
      "Konrad Wojtasik\tInformation Retrieval\tIntroduction to modern information retrieval\tInformation retrieval plays a crucial role in modern systems, finding applications across diverse domains and industries. Its relevance spans from web search and recommendation systems to product search and health and legal information retrieval. Information retrieval is not only essential for traditional search applications but also plays a vital role in retrieval-augmented Question Answering systems. Additionally, it serves as a valuable mechanism to prevent Large Language Models from generating incorrect or hallucinated information. Moreover, it ensures that their knowledge remains accurate and up-to-date. During this workshop, participants will have the opportunity to explore and understand current state-of-the-art models used in information retrieval. They will gain insights into the strengths and limitations of these models. Furthermore, the workshop will focus on setting up an information retrieval pipeline, allowing participants to gain hands-on experience in building and implementing such systems. Additionally, participants will learn how to effectively measure and evaluate the performance of their information retrieval pipelines.\n",
      "Mateusz Gniewkowski\tXAI\tModel Agnostic Explanations Techniques\t\"Machine learning models can often be complex and difficult to understand, therefore it is important to be able to explain how these models work, as they are increasingly used in a wide range of industries and applications.\n",
      "The workshop will start by discussing some basic ways to explain machine learning models, such as using feature importance measures, decision trees, and visualization tools. However, the focus will then shift to model-agnostic techniques, which can be applied to any type of machine learning model.\n",
      "The techniques that will be covered in the workshop include LIME (Local Interpretable Model-Agnostic Explanations) and SHAP (SHapley Additive exPlanations). These libraries are designed to provide more transparent and understandable explanations for machine learning models, even when the models themselves are complex or difficult to interpret.\"\n",
      "Piotr Bielak\tRepresentation learning\tIntroduction to graph representation learning\tIn recent years, representation learning has attracted much attention both in the research community and industrial applications. Learning representations for graphs is especially challenging due to the relational nature of such data, i.e., one must reflect both the rich attribute space and graph structure in the embedding vectors. During this workshop, I will show how to use the PyTorch-Geometric library to easily build graph representations and solve a variety of applications. We will explore node, edge and graph-level representations through the prism of their associated downstream tasks and corresponding deep learning models (Graph Neural Networks).\n",
      "Denis Janiak\tRepresentation learning, Bayesian methods\tDoes Representation Know What It Doesn't Know? \t\"Uncertainty estimation is a critical aspect of artificial intelligence systems, enabling them to quantify their confidence and provide reliable predictions. However, accurately assessing uncertainty becomes increasingly challenging when AI models encounter scenarios outside their training data distribution. This workshop, titled \"\"Does Representation Know What It Doesn't Know?,\"\" aims to explore the concept of uncertainty estimation in AI systems and delve into the question of whether representations within these systems possess the ability to recognize their own limitations. During the workshop, we will investigate the various techniques and methodologies employed in uncertainty estimation, such as Bayesian approaches and deep learning-based techniques. We will analyze the strengths and limitations of these approaches and discuss their implications for real-world applications.\n",
      "Furthermore, the workshop will delve into the concept of representation learning and its impact on uncertainty estimation. We will examine whether AI systems can effectively recognize when they are faced with novel or out-of-distribution inputs. Additionally, we will explore approaches to measure and improve representation awareness, enabling models to identify areas of uncertainty and seek further guidance or human intervention when necessary.\n",
      "By the end of the workshop, attendees will gain a deeper understanding of the state-of-the-art techniques for uncertainty estimation and its importance in building robust AI systems. They will also gain insights into the fundamental question of whether representations within AI models possess the capability to identify areas of uncertainty and adapt accordingly. \"\n",
      "Albert Sawczyn\tRepresentation learning\tKnowledge Graph Representation Learning\tKnowledge graphs have emerged as powerful tools for organizing and representing structured information in various domains, enabling efficient data integration, inference, and knowledge discovery. Knowledge graph representation learning aims to capture the rich semantic relationships and contextual information within knowledge graphs, facilitating effective knowledge inference and reasoning. This workshop aims to introduce the fundamental challenge of learning representations for knowledge graphs and highlight their significance in practical applications. Practical demonstrations will show how to easily learn representation using the PyKEEN library and how to apply it to a real-world NLP problem. \n",
      "Jakub Binkowski\tRepresentation learning\tGenerative models for graphs\tAfter many advancements in the realm of Graph Representation Learning, graph generation gained much attention due to its vast range of applications (e.g. drug design). Nonetheless, due to the nature of graph data, this task is very difficult and further breakthroughs still need to be discovered. Hence the workshop will provide a ground understanding of the selected methods and problems associated with graph generation. During the workshop, I will show the most important methods in theory and practice. I will show how to implement these methods leveraging Pytorch Geometric library. We will go through training and evaluation using common datasets.\n",
      "Kamil Kanclerz\tNLP, Personalization\tSubjective problems in NLP\t\"A unified gold standard commonly exploited in natural language processing (NLP) tasks requires high inter-annotator agreement. However, there are many subjective problems that should respect users’ individual points of view. At the first glance, disagreement and non-regular annotations can be seen as noise that drags the performance of NLP task detection models down. As we know, the ability to think and perceive the environment differently is natural to humans as such. Therefore, it is crucial to include this observation while building predictive models in order to reflect the setup close to reality. As simple as this may seem, it is important to keep in mind that the key ideas behind NLP phenomenon detection, such as gold standard, agreement coefficients, or the evaluation itself need to be thoroughly analyzed and reconsidered especially for subjective NLP tasks like hate speech detection, prediction of emotional elicitation, sense of humor, sarcasm detection, or even sentiment analysis. Such NLP tasks come with each complexity of their own, especially within the aspect of subjectivity, therefore making them difficult to solve compared to non-subjective tasks.\n",
      "\n",
      "During the workshop, the participants will be introduced to the novel deep neural architectures leveraging various user representations. Moreover, the user-centered data setups will be explained in comparison to their ground truth equivalents. Additionally, the personalized evaluation techniques will be presented as the methods providing further insight into model ability to understand differences between various user perspectives.\"\n",
      "Mateusz Wójcik\tMLOps, continual learning\tContinual Learning - techniques and applications\t\"Recently, neural architectures have become effective and widely used in various domains. The parameter optimization process based on gradient descent works well when the data set is sufficiently large and fully available during the training process. But what if we don’t have all the data available during training? What if the number of classes increase? As a result, we have to manually retrain the models from scratch ensuing a time-consuming process.\n",
      "\n",
      "During this workshop you will learn about the Continual Learning and its applications. We will discuss the catastrophic forgetting and explore various techniques that trying to prevent it starting from simple neural networks up to modern LLMs. As a result, you will understand why we need Continual Learning and how to apply it to existing or new models.\"\n",
      "Patryk Wielopolski\tGenerative Models\tConditional object generation using pre-trained models and plug-in networks\tGenerative models have gained many Machine Learning practitioners’ attention in the last years resulting in models such as StyleGAN for human face generation or PointFlow for the 3D point cloud generation. However, by default, we cannot control its sampling process, i.e., we cannot generate a sample with a specific set of attributes. The current approach is model retraining with additional inputs and different architecture, which requires time and computational resources. During this hands-on workshop we will go through a method which enables to generate objects with a given set of attributes without retraining the base model. For this purpose, we will utilize the normalizing flow models - Conditional Masked Autoregressive Flow and Conditional Real NVP, and plug-in networks resulting in the Flow Plugin Network.\n",
      "Michał Czuba\tNetwork Science\tComplex networks part II - spreading processes\tTwo years ago, the world faced SARS-CoV-2 and the biggest pandemic in the century. Since last winter, with an incursion of Russian troops in Ukraine, all civilised countries have been subjected to misinformation. This year with an election in Poland, a festival of campaign promises has started. The nature of these three examples is complex and hard to analyse. Nonetheless, one of the approaches leading to understanding and controlling such processes is a network simulation. During this workshop, you will learn an essential toolkit to model and analyse spreading phenomena in complex networks. You will understand how to simulate such processes as epidemics or opinion dynamics and how to identify key spreaders of fake news or the most fragile individuals to be vaccinated in the first place.\n",
      "Mateusz Nurek\tNetwork Science\tComplex networks part I - social network analysis \tComputational network science is a field of artificial intelligence that analyses graphs in applied problems involving social, transportation, epidemiological or energy issues. This workshop will teach you fundamental tools and techniques for analysing this data type. Based on a case study - the history of communication in a particular company, we will solve the problem of optimising the structure of its organisation. We will detect natural teams from employees most intensively working together. We will also identify key personnel, i.e. employees whose loss can cause communication paralysis.\n",
      "Damian Serwata\tNetwork Science\t\"Complex networks I - social network analysis\n",
      "Complex networks II - spreading processes\"\t\n",
      "Michał Karol\tML w medycynie\tComputer Vision for medical image processing\tComputer vision has emerged as a revolutionary technology in the medical field, bringing significant transformations in various aspects of healthcare. Its application in clinical practice has paved the way for improved diagnostics, more accurate disease detection, and enhanced treatment planning. The objective of this workshop is to bring comprehensive understanding of the impact of computer vision in clinical practice. Participants will gain insights into how this technology is reshaping healthcare and improving patient outcomes. By exploring the latest advancements in certified medical systems, attendees will learn about the integration of computer vision into existing medical frameworks and protocols. Moreover, the workshop will delve into current research areas within computer vision in medicine. Participants will be introduced to cutting-edge studies and ongoing projects that aim to further enhance the capabilities of computer vision in the healthcare domain. In the second part of the workshop, there will be an interactive session focused on implementing classification and segmentation networks using the JAX framework and the Flax library. \n",
      "Piotr Kawa\tAnaliza dźwięku (TTS, DF)\tGenerating audio DeepFakes and how to detect them\tRecent advances in audio processing and speech synthesis allow the creation of realistic speech - DeepFakes. Despite a number of advantages, this technology poses a threat through its potential applications including disinformation spreading. Participants in this workshop will learn about the latest technologies for speech generation and then how to defend themselves against the malicious use of this technology using state-of-the-art DeepFake detection techniques.\n",
      "\n",
      "\n",
      "\n",
      "Historia Rozmowy:\n",
      "Human: jest coś z Large language models?\n",
      "AI:  Tak, mamy kilka warsztatów dotyczących dużych językowych modeli. Zajrzyj do listy warsztatów, aby zobaczyć szczegóły: Łukasz Augustyniak ma warsztat pt. \"Duże językowe modele - od demo do produkcji\". Kamil Kanclerz ma warsztat pt. „Problem subiektywny w NLP”.\n",
      "Student: Świetnie, jest coś jeszcze innego z NLP?\n",
      "Asystent:\u001b[0m\n",
      "\n",
      "\u001b[1m> Finished chain.\u001b[0m\n"
     ]
    },
    {
     "data": {
      "text/plain": [
       "' Tak, mamy kilka warsztatów związanych z NLP. Piotr Bielak ma warsztat pt. „Wprowadzenie do nowoczesnego wyszukiwania informacji”, a Denis Janiak ma warsztat pt. „Czy reprezentacja wie, czego nie wie? \".'"
      ]
     },
     "execution_count": null,
     "metadata": {},
     "output_type": "execute_result"
    }
   ],
   "source": [
    "#| eval: false\n",
    "llm_chain.predict(human_input=\"Świetnie, jest coś jeszcze innego z NLP?\")"
   ]
  },
  {
   "cell_type": "code",
   "execution_count": null,
   "metadata": {},
   "outputs": [],
   "source": []
  }
 ],
 "metadata": {
  "kernelspec": {
   "display_name": "python3",
   "language": "python",
   "name": "python3"
  }
 },
 "nbformat": 4,
 "nbformat_minor": 2
}
